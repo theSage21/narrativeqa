{
 "cells": [
  {
   "cell_type": "code",
   "execution_count": 125,
   "metadata": {},
   "outputs": [
    {
     "name": "stdout",
     "output_type": "stream",
     "text": [
      "Populating the interactive namespace from numpy and matplotlib\n"
     ]
    }
   ],
   "source": [
    "import torch\n",
    "from torch.autograd import Variable\n",
    "import torch.nn as nn\n",
    "import torch.nn.functional as F\n",
    "from tqdm import trange, tqdm, tqdm_notebook\n",
    "from tensorboardX import SummaryWriter\n",
    "%pylab inline"
   ]
  },
  {
   "cell_type": "code",
   "execution_count": 139,
   "metadata": {},
   "outputs": [
    {
     "name": "stderr",
     "output_type": "stream",
     "text": [
      "\n",
      "\n",
      "  0%|          | 0/10000 [00:00<?, ?it/s]\u001b[A\n",
      "  0%|          | 1/10000 [00:00<1:50:16,  1.51it/s]\u001b[A\n",
      "  0%|          | 2/10000 [00:01<1:50:20,  1.51it/s]\u001b[A\n",
      "  0%|          | 3/10000 [00:02<1:52:40,  1.48it/s]\u001b[A\n",
      "  0%|          | 4/10000 [00:02<1:55:02,  1.45it/s]\u001b[A\n",
      "  0%|          | 5/10000 [00:03<1:59:46,  1.39it/s]\u001b[A\n",
      "  0%|          | 6/10000 [00:04<2:07:05,  1.31it/s]\u001b[A\n",
      "  0%|          | 7/10000 [00:05<2:04:32,  1.34it/s]\u001b[A\n",
      "  0%|          | 8/10000 [00:05<2:00:09,  1.39it/s]\u001b[A\n",
      "  0%|          | 9/10000 [00:06<1:57:40,  1.42it/s]\u001b[A\n",
      "  0%|          | 10/10000 [00:06<1:55:28,  1.44it/s]\u001b[A\n",
      "  0%|          | 11/10000 [00:07<1:53:50,  1.46it/s]\u001b[A\n",
      "  0%|          | 12/10000 [00:08<1:52:06,  1.48it/s]\u001b[A\n",
      "Exception in thread Thread-38:\n",
      "Traceback (most recent call last):\n",
      "  File \"/usr/local/lib/python3.6/threading.py\", line 916, in _bootstrap_inner\n",
      "    self.run()\n",
      "  File \"/home/arjoonn/.local/share/virtualenvs/narrativeqa-YhfIL57q/lib/python3.6/site-packages/tqdm/_tqdm.py\", line 148, in run\n",
      "    for instance in self.tqdm_cls._instances:\n",
      "  File \"/home/arjoonn/.local/share/virtualenvs/narrativeqa-YhfIL57q/lib/python3.6/_weakrefset.py\", line 60, in __iter__\n",
      "    for itemref in self.data:\n",
      "RuntimeError: Set changed size during iteration\n",
      "\n",
      " 10%|█         | 1004/10000 [11:43<1:45:06,  1.43it/s]\n"
     ]
    },
    {
     "ename": "KeyboardInterrupt",
     "evalue": "",
     "output_type": "error",
     "traceback": [
      "\u001b[0;31m---------------------------------------------------------------------------\u001b[0m",
      "\u001b[0;31mKeyboardInterrupt\u001b[0m                         Traceback (most recent call last)",
      "\u001b[0;32m<ipython-input-139-938fdf14ed32>\u001b[0m in \u001b[0;36m<module>\u001b[0;34m()\u001b[0m\n\u001b[1;32m     77\u001b[0m     \u001b[0ml\u001b[0m \u001b[0;34m=\u001b[0m \u001b[0;36m0\u001b[0m\u001b[0;34m\u001b[0m\u001b[0m\n\u001b[1;32m     78\u001b[0m     \u001b[0;32mfor\u001b[0m \u001b[0mi\u001b[0m\u001b[0;34m,\u001b[0m \u001b[0mj\u001b[0m \u001b[0;32min\u001b[0m \u001b[0mzip\u001b[0m\u001b[0;34m(\u001b[0m\u001b[0mC\u001b[0m\u001b[0;34m,\u001b[0m \u001b[0mD\u001b[0m\u001b[0;34m)\u001b[0m\u001b[0;34m:\u001b[0m\u001b[0;34m\u001b[0m\u001b[0m\n\u001b[0;32m---> 79\u001b[0;31m         \u001b[0mp\u001b[0m \u001b[0;34m=\u001b[0m \u001b[0mnet\u001b[0m\u001b[0;34m.\u001b[0m\u001b[0mforward\u001b[0m\u001b[0;34m(\u001b[0m\u001b[0mi\u001b[0m\u001b[0;34m)\u001b[0m\u001b[0;34m\u001b[0m\u001b[0m\n\u001b[0m\u001b[1;32m     80\u001b[0m         \u001b[0mloss\u001b[0m \u001b[0;34m=\u001b[0m \u001b[0mcriterion\u001b[0m\u001b[0;34m(\u001b[0m\u001b[0mp\u001b[0m\u001b[0;34m,\u001b[0m \u001b[0mj\u001b[0m\u001b[0;34m)\u001b[0m\u001b[0;34m\u001b[0m\u001b[0m\n\u001b[1;32m     81\u001b[0m         \u001b[0ml\u001b[0m \u001b[0;34m+=\u001b[0m \u001b[0;34m(\u001b[0m\u001b[0mloss\u001b[0m\u001b[0;34m.\u001b[0m\u001b[0mdata\u001b[0m\u001b[0;34m[\u001b[0m\u001b[0;36m0\u001b[0m\u001b[0;34m]\u001b[0m\u001b[0;34m)\u001b[0m\u001b[0;34m\u001b[0m\u001b[0m\n",
      "\u001b[0;32m<ipython-input-139-938fdf14ed32>\u001b[0m in \u001b[0;36mforward\u001b[0;34m(self, inp)\u001b[0m\n\u001b[1;32m     44\u001b[0m     \u001b[0;32mdef\u001b[0m \u001b[0mforward\u001b[0m\u001b[0;34m(\u001b[0m\u001b[0mself\u001b[0m\u001b[0;34m,\u001b[0m \u001b[0minp\u001b[0m\u001b[0;34m)\u001b[0m\u001b[0;34m:\u001b[0m\u001b[0;34m\u001b[0m\u001b[0m\n\u001b[1;32m     45\u001b[0m         \u001b[0mh\u001b[0m \u001b[0;34m=\u001b[0m \u001b[0mself\u001b[0m\u001b[0;34m.\u001b[0m\u001b[0minet\u001b[0m\u001b[0;34m(\u001b[0m\u001b[0minp\u001b[0m\u001b[0;34m)\u001b[0m\u001b[0;34m\u001b[0m\u001b[0m\n\u001b[0;32m---> 46\u001b[0;31m         \u001b[0mflag\u001b[0m \u001b[0;34m=\u001b[0m \u001b[0;34m(\u001b[0m\u001b[0;34m(\u001b[0m\u001b[0mh\u001b[0m\u001b[0;34m.\u001b[0m\u001b[0msum\u001b[0m\u001b[0;34m(\u001b[0m\u001b[0;34m)\u001b[0m\u001b[0;34m)\u001b[0m\u001b[0;34m.\u001b[0m\u001b[0mdata\u001b[0m \u001b[0;34m<\u001b[0m \u001b[0mmeanmark\u001b[0m\u001b[0;34m)\u001b[0m\u001b[0;34m.\u001b[0m\u001b[0mnumpy\u001b[0m\u001b[0;34m(\u001b[0m\u001b[0;34m)\u001b[0m\u001b[0;34m\u001b[0m\u001b[0m\n\u001b[0m\u001b[1;32m     47\u001b[0m         \u001b[0;32mif\u001b[0m \u001b[0mflag\u001b[0m\u001b[0;34m:\u001b[0m\u001b[0;34m\u001b[0m\u001b[0m\n\u001b[1;32m     48\u001b[0m             \u001b[0mo\u001b[0m \u001b[0;34m=\u001b[0m \u001b[0mself\u001b[0m\u001b[0;34m.\u001b[0m\u001b[0maddnet\u001b[0m\u001b[0;34m(\u001b[0m\u001b[0mh\u001b[0m\u001b[0;34m)\u001b[0m\u001b[0;34m\u001b[0m\u001b[0m\n",
      "\u001b[0;31mKeyboardInterrupt\u001b[0m: "
     ]
    }
   ],
   "source": [
    "def makedata(n):\n",
    "    x = np.random.random((500, 2)) * 100\n",
    "    mask = x.sum(axis=1) > x.mean()\n",
    "    sums = x.sum(axis=1)\n",
    "    sum2 = (x).prod(axis=1)\n",
    "\n",
    "    y = sums*mask + sum2*(~mask)\n",
    "    y = y.reshape((-1, 1))\n",
    "    meanmark = x.mean()\n",
    "    return x, y, meanmark\n",
    "\n",
    "x, y, meanmark = makedata(500)\n",
    "dx, dy, _ = makedata(1000)\n",
    "\n",
    "class MLP(nn.Module):\n",
    "    def __init__(self, idim, hdim, odim):\n",
    "        super().__init__()\n",
    "        self.idim = idim\n",
    "        self.hdim = hdim\n",
    "        self.odim = odim\n",
    "        \n",
    "        self.ilay = nn.Linear(idim, hdim)\n",
    "        self.hlay = nn.Linear(hdim, hdim)\n",
    "        self.olay = nn.Linear(hdim, odim)\n",
    "    \n",
    "    def forward(self, inp):\n",
    "        h = F.elu(self.ilay(inp))\n",
    "        h = F.elu(self.hlay(h))\n",
    "        o = F.elu(self.olay(h))\n",
    "        return o\n",
    "\n",
    "class SplitNet(nn.Module):\n",
    "    def __init__(self, idim, hdim, odim):\n",
    "        super().__init__()\n",
    "        self.idim = idim\n",
    "        self.odim = odim\n",
    "        self.hdim = hdim\n",
    "        self.inet = MLP(idim, hdim, hdim)\n",
    "        \n",
    "        self.addnet = MLP(hdim, hdim, 1)\n",
    "        self.mulnet1 = MLP(hdim, hdim, hdim)\n",
    "        self.mulnet2 = MLP(hdim, hdim, 1)\n",
    "    \n",
    "    def forward(self, inp):\n",
    "        h = self.inet(inp)\n",
    "        flag = ((h.sum()).data < meanmark).numpy()\n",
    "        if flag:\n",
    "            o = self.addnet(h)\n",
    "        else:\n",
    "            o = self.mulnet1(h)\n",
    "            o = self.mulnet2(o)\n",
    "        return o\n",
    "\n",
    "net = SplitNet(2, 30, 1)\n",
    "\n",
    "A = Variable(torch.from_numpy(x).float())\n",
    "B = Variable(torch.from_numpy(y).float())\n",
    "C = Variable(torch.from_numpy(dx).float())\n",
    "D = Variable(torch.from_numpy(dy).float())\n",
    "\n",
    "\n",
    "criterion = nn.MSELoss()\n",
    "opt = torch.optim.Adam(net.parameters())\n",
    "!rm -rf logs\n",
    "twriter = SummaryWriter('logs/train/')\n",
    "dwriter = SummaryWriter('logs/dev/')\n",
    "for epoch in trange(10000):\n",
    "    l = 0\n",
    "    for i, j in zip(A, B):\n",
    "        net.zero_grad()\n",
    "        p = net.forward(i)\n",
    "        loss = criterion(p, j)\n",
    "        loss.backward()\n",
    "        l += (loss.data[0])\n",
    "        opt.step()\n",
    "    twriter.add_scalar('mse', l / x.shape[0], epoch)\n",
    "    l = 0\n",
    "    for i, j in zip(C, D):\n",
    "        p = net.forward(i)\n",
    "        loss = criterion(p, j)\n",
    "        l += (loss.data[0])\n",
    "    dwriter.add_scalar('mse', l/dx.shape[0], epoch)"
   ]
  },
  {
   "cell_type": "code",
   "execution_count": null,
   "metadata": {},
   "outputs": [],
   "source": [
    "plt.plot(log)"
   ]
  },
  {
   "cell_type": "code",
   "execution_count": null,
   "metadata": {},
   "outputs": [],
   "source": []
  }
 ],
 "metadata": {
  "kernelspec": {
   "display_name": "Python 3",
   "language": "python",
   "name": "python3"
  },
  "language_info": {
   "codemirror_mode": {
    "name": "ipython",
    "version": 3
   },
   "file_extension": ".py",
   "mimetype": "text/x-python",
   "name": "python",
   "nbconvert_exporter": "python",
   "pygments_lexer": "ipython3",
   "version": "3.6.2"
  }
 },
 "nbformat": 4,
 "nbformat_minor": 2
}
